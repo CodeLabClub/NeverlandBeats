{
 "cells": [
  {
   "cell_type": "code",
   "execution_count": 9,
   "metadata": {},
   "outputs": [],
   "source": [
    "from codelab_adapter_client.utils import threaded\n",
    "import pydub\n",
    "from pydub import AudioSegment\n",
    "from pydub.playback import play\n",
    "\n",
    "path = \"greatshow.wav\"\n",
    "song = AudioSegment.from_wav(path)\n",
    "\n",
    "@threaded\n",
    "def play_(song, node):\n",
    "    play(song)\n"
   ]
  },
  {
   "cell_type": "code",
   "execution_count": 10,
   "metadata": {},
   "outputs": [],
   "source": [
    "import time\n",
    "import numpy as np\n",
    "from rpi_ws281x import PixelStrip, Color\n",
    "\n",
    "LED_COUNT = 60              # 灯珠数量\n",
    "LED_PIN = 18                # GPIO 18\n",
    "LED_FREQ_HZ = 800000        # 频率\n",
    "LED_DMA = 10\n",
    "LED_BRIGHTNESS = 20         # 亮度\n",
    "LED_INVERT = False\n",
    "LED_CHANNEL = 0\n",
    "\n",
    "strip = PixelStrip(LED_COUNT, LED_PIN, LED_FREQ_HZ, LED_DMA, LED_INVERT, LED_BRIGHTNESS, LED_CHANNEL)\n",
    "strip.begin()\n",
    "\n",
    "\n",
    "def ColorWipe(strip, color):\n",
    "    for i in range(strip.numPixels()):\n",
    "        strip.setPixelColor(i, color)\n",
    "    strip.show()\n",
    "    \n",
    "@threaded\n",
    "def LightShinning(sleep_time):\n",
    "    for i in np.arange(len(sleep_time)):\n",
    "        if i%2 == 0:\n",
    "            ColorWipe(strip, Color(150, 0, 100))\n",
    "            time.sleep(sleep_time[i])\n",
    "        if i%2 == 1:\n",
    "            ColorWipe(strip, Color(100, 0, 150))\n",
    "            time.sleep(sleep_time[i])\n",
    "    \n",
    "        \n"
   ]
  },
  {
   "cell_type": "code",
   "execution_count": 11,
   "metadata": {},
   "outputs": [],
   "source": [
    "import yeelight\n",
    "from yeelight import *\n",
    "\n",
    "bulb = Bulb('192.168.31.21')"
   ]
  },
  {
   "cell_type": "code",
   "execution_count": 4,
   "metadata": {},
   "outputs": [
    {
     "data": {
      "text/plain": [
       "'ok'"
      ]
     },
     "execution_count": 4,
     "metadata": {},
     "output_type": "execute_result"
    }
   ],
   "source": [
    "bulb.turn_off()"
   ]
  },
  {
   "cell_type": "code",
   "execution_count": 22,
   "metadata": {},
   "outputs": [],
   "source": [
    "import madmom\n",
    "from madmom.features.beats import RNNBeatProcessor, DBNBeatTrackingProcessor\n",
    "\n",
    "act = RNNBeatProcessor()('greatshow.wav')\n",
    "proc = DBNBeatTrackingProcessor(fps=100)\n",
    "beats = proc(act)"
   ]
  },
  {
   "cell_type": "code",
   "execution_count": 8,
   "metadata": {},
   "outputs": [
    {
     "ename": "KeyboardInterrupt",
     "evalue": "",
     "output_type": "error",
     "traceback": [
      "\u001b[0;31m---------------------------------------------------------------------------\u001b[0m",
      "\u001b[0;31mKeyboardInterrupt\u001b[0m                         Traceback (most recent call last)",
      "\u001b[0;32m<ipython-input-8-9bd96fec9b42>\u001b[0m in \u001b[0;36m<module>\u001b[0;34m\u001b[0m\n\u001b[0;32m----> 1\u001b[0;31m \u001b[0mLightShinning\u001b[0m\u001b[0;34m(\u001b[0m\u001b[0msleep_time\u001b[0m\u001b[0;34m)\u001b[0m\u001b[0;34m\u001b[0m\u001b[0;34m\u001b[0m\u001b[0m\n\u001b[0m",
      "\u001b[0;32m<ipython-input-2-0e839d7f97ef>\u001b[0m in \u001b[0;36mLightShinning\u001b[0;34m(sleep_time)\u001b[0m\n\u001b[1;32m     27\u001b[0m         \u001b[0;32mif\u001b[0m \u001b[0mi\u001b[0m\u001b[0;34m%\u001b[0m\u001b[0;36m2\u001b[0m \u001b[0;34m==\u001b[0m \u001b[0;36m1\u001b[0m\u001b[0;34m:\u001b[0m\u001b[0;34m\u001b[0m\u001b[0;34m\u001b[0m\u001b[0m\n\u001b[1;32m     28\u001b[0m             \u001b[0mColorWipe\u001b[0m\u001b[0;34m(\u001b[0m\u001b[0mstrip\u001b[0m\u001b[0;34m,\u001b[0m \u001b[0mColor\u001b[0m\u001b[0;34m(\u001b[0m\u001b[0;36m100\u001b[0m\u001b[0;34m,\u001b[0m \u001b[0;36m0\u001b[0m\u001b[0;34m,\u001b[0m \u001b[0;36m150\u001b[0m\u001b[0;34m)\u001b[0m\u001b[0;34m)\u001b[0m\u001b[0;34m\u001b[0m\u001b[0;34m\u001b[0m\u001b[0m\n\u001b[0;32m---> 29\u001b[0;31m             \u001b[0mtime\u001b[0m\u001b[0;34m.\u001b[0m\u001b[0msleep\u001b[0m\u001b[0;34m(\u001b[0m\u001b[0msleep_time\u001b[0m\u001b[0;34m[\u001b[0m\u001b[0mi\u001b[0m\u001b[0;34m]\u001b[0m\u001b[0;34m)\u001b[0m\u001b[0;34m\u001b[0m\u001b[0;34m\u001b[0m\u001b[0m\n\u001b[0m\u001b[1;32m     30\u001b[0m \u001b[0;34m\u001b[0m\u001b[0m\n\u001b[1;32m     31\u001b[0m \u001b[0;34m\u001b[0m\u001b[0m\n",
      "\u001b[0;31mKeyboardInterrupt\u001b[0m: "
     ]
    }
   ],
   "source": [
    "LightShinning(sleep_time)"
   ]
  },
  {
   "cell_type": "code",
   "execution_count": null,
   "metadata": {},
   "outputs": [],
   "source": [
    "from codelab_adapter_client import AdapterNode\n",
    "\n",
    "\n",
    "\n",
    "class MyNode(AdapterNode):\n",
    "    NODE_ID = \"eim/beats\"\n",
    "    \n",
    "    def __init__(self):\n",
    "        super().__init__()\n",
    "        self.is_ready = False\n",
    "        \n",
    "    def send_data(self, content):\n",
    "        message = self.message_template()\n",
    "        message[\"payload\"][\"content\"] = content\n",
    "        self.publish(message)\n",
    "        \n",
    "    @threaded\n",
    "    def play_song(self):\n",
    "        play(song)\n",
    "    \n",
    "    @threaded\n",
    "    def LightShinning(self, sleep_time):\n",
    "        for i in np.arange(len(sleep_time)):\n",
    "            if i%2 == 0:\n",
    "                ColorWipe(strip, Color(150, 0, 100))\n",
    "                time.sleep(sleep_time[i])\n",
    "            if i%2 == 1:\n",
    "                ColorWipe(strip, Color(100, 0, 150))\n",
    "                time.sleep(sleep_time[i])\n",
    "        \n",
    "        \n",
    "    def extension_message_handle(self, topic, payload):\n",
    "        self.logger.info(f'the message payload from scratch: {payload}')\n",
    "        content = payload[\"content\"]\n",
    "        if content == \"go\":\n",
    "            self.is_ready = True\n",
    "            self.play_song()\n",
    "            self.LightShinning()\n",
    "        \n",
    "node = MyNode()\n",
    "node.receive_loop_as_thread()\n",
    "time.sleep(0.1)\n",
    "\n"
   ]
  },
  {
   "cell_type": "code",
   "execution_count": null,
   "metadata": {},
   "outputs": [],
   "source": [
    "import concurrent.futures\n",
    "\n",
    "'''\n",
    "with concurrent.futures.ProcessPoolExecutor(max_workers=5) as executor:\n",
    "    future1 = executor.submit(play(song))\n",
    "    future2 = executor.submit(LightShinning(sleep_time))\n",
    "'''\n",
    "    \n",
    "    "
   ]
  },
  {
   "cell_type": "code",
   "execution_count": 1,
   "metadata": {},
   "outputs": [],
   "source": [
    "import numpy as np\n",
    "import madmom\n",
    "\n",
    "from madmom.features.downbeats import RNNDownBeatProcessor, DBNDownBeatTrackingProcessor\n"
   ]
  },
  {
   "cell_type": "code",
   "execution_count": 3,
   "metadata": {},
   "outputs": [],
   "source": [
    "import pydub"
   ]
  },
  {
   "cell_type": "code",
   "execution_count": 13,
   "metadata": {},
   "outputs": [
    {
     "data": {
      "text/plain": [
       "<_io.BufferedRandom name='greatshow.wav'>"
      ]
     },
     "execution_count": 13,
     "metadata": {},
     "output_type": "execute_result"
    }
   ],
   "source": [
    "song_seg.export(\"greatshow.wav\", format=\"wav\")"
   ]
  },
  {
   "cell_type": "code",
   "execution_count": 18,
   "metadata": {},
   "outputs": [],
   "source": [
    "act = RNNDownBeatProcessor()('greatshow.wav')\n",
    "proc = DBNDownBeatTrackingProcessor(beats_per_bar=[3, 4], fps=100)\n",
    "badb=proc(act)"
   ]
  },
  {
   "cell_type": "code",
   "execution_count": 19,
   "metadata": {},
   "outputs": [
    {
     "data": {
      "text/plain": [
       "numpy.ndarray"
      ]
     },
     "execution_count": 19,
     "metadata": {},
     "output_type": "execute_result"
    }
   ],
   "source": [
    "type(badb)"
   ]
  },
  {
   "cell_type": "code",
   "execution_count": 22,
   "metadata": {},
   "outputs": [
    {
     "data": {
      "text/plain": [
       "3.0"
      ]
     },
     "execution_count": 22,
     "metadata": {},
     "output_type": "execute_result"
    }
   ],
   "source": [
    "badb[0][1]"
   ]
  },
  {
   "cell_type": "code",
   "execution_count": 35,
   "metadata": {},
   "outputs": [],
   "source": [
    "downbeats = []\n",
    "for i in np.arange(len(badb)):\n",
    "    if badb[i][1]==1:\n",
    "        downbeats.append(badb[i][0])    "
   ]
  },
  {
   "cell_type": "code",
   "execution_count": 4,
   "metadata": {},
   "outputs": [],
   "source": [
    "downbeats=[0.96, 2.52, 4.07, 5.64, 7.2, 8.75, 10.31, 11.87, 13.43, 14.99, 16.55, 18.11, 19.66, 21.22, 22.78, 24.34, 25.9, 27.45, \n",
    "           29.02, 30.57, 32.13, 33.69, 35.25, 36.81, 38.37, 39.91, 41.48, 43.04, 44.59, 46.15, 47.71, 49.26, 50.82, 52.49, 54.13, 55.7, 57.09 ]"
   ]
  },
  {
   "cell_type": "code",
   "execution_count": 10,
   "metadata": {},
   "outputs": [
    {
     "data": {
      "text/plain": [
       "37"
      ]
     },
     "execution_count": 10,
     "metadata": {},
     "output_type": "execute_result"
    }
   ],
   "source": [
    "len(downbeats)"
   ]
  },
  {
   "cell_type": "code",
   "execution_count": null,
   "metadata": {},
   "outputs": [],
   "source": []
  },
  {
   "cell_type": "code",
   "execution_count": 25,
   "metadata": {},
   "outputs": [],
   "source": [
    "import numpy as np\n",
    "beats_0 = np.insert(beats, 0, 0)\n",
    "beats_d = np.delete(beats_0, 149)\n",
    "sleep_time = beats-beats_d\n"
   ]
  },
  {
   "cell_type": "code",
   "execution_count": 6,
   "metadata": {},
   "outputs": [],
   "source": [
    "sleep_time=[0.19, 0.4 , 0.38, 0.39, 0.4 , 0.37, 0.39, 0.41, 0.37, 0.41, 0.37,\n",
    "       0.39, 0.4 , 0.38, 0.39, 0.41, 0.38, 0.38, 0.4 , 0.39, 0.39, 0.4 ,\n",
    "       0.37, 0.41, 0.37, 0.38, 0.39, 0.4 , 0.37, 0.39, 0.4 , 0.4 , 0.38,\n",
    "       0.4 , 0.39, 0.37, 0.4 , 0.38, 0.4 , 0.39, 0.39, 0.4 , 0.39, 0.38,\n",
    "       0.39, 0.39, 0.39, 0.39, 0.39, 0.4 , 0.38, 0.39, 0.39, 0.4 , 0.38,\n",
    "       0.39, 0.38, 0.4 , 0.39, 0.39, 0.39, 0.39, 0.39, 0.39, 0.38, 0.4 ,\n",
    "       0.38, 0.39, 0.39, 0.4 , 0.38, 0.4 , 0.38, 0.4 , 0.38, 0.39, 0.39,\n",
    "       0.39, 0.39, 0.39, 0.39, 0.39, 0.39, 0.4 , 0.38, 0.39, 0.39, 0.39,\n",
    "       0.38, 0.4 , 0.38, 0.4 , 0.38, 0.4 , 0.38, 0.4 , 0.38, 0.39, 0.39,\n",
    "       0.39, 0.39, 0.39, 0.39, 0.39, 0.39, 0.39, 0.39, 0.39, 0.39, 0.39,\n",
    "       0.39, 0.39, 0.38, 0.4 , 0.38, 0.39, 0.39, 0.39, 0.39, 0.4 , 0.38,\n",
    "       0.39, 0.39, 0.39, 0.39, 0.39, 0.39, 0.4 , 0.38, 0.4 , 0.37, 0.41,\n",
    "       0.39, 0.39, 0.37, 0.41, 0.37, 0.39, 0.41, 0.37, 0.39, 0.41, 0.37,\n",
    "       0.41, 0.38, 0.38, 0.41, 0.37, 0.41]\n"
   ]
  },
  {
   "cell_type": "code",
   "execution_count": 37,
   "metadata": {},
   "outputs": [
    {
     "data": {
      "text/plain": [
       "[0.96,\n",
       " 2.52,\n",
       " 4.07,\n",
       " 5.64,\n",
       " 7.2,\n",
       " 8.75,\n",
       " 10.31,\n",
       " 11.87,\n",
       " 13.43,\n",
       " 14.99,\n",
       " 16.55,\n",
       " 18.11,\n",
       " 19.66,\n",
       " 21.22,\n",
       " 22.78,\n",
       " 24.34,\n",
       " 25.9,\n",
       " 27.45,\n",
       " 29.02,\n",
       " 30.57,\n",
       " 32.13,\n",
       " 33.69,\n",
       " 35.25,\n",
       " 36.81,\n",
       " 38.37,\n",
       " 39.91,\n",
       " 41.48,\n",
       " 43.04,\n",
       " 44.59,\n",
       " 46.15,\n",
       " 47.71,\n",
       " 49.26,\n",
       " 50.82,\n",
       " 52.49,\n",
       " 54.13,\n",
       " 55.7,\n",
       " 57.09]"
      ]
     },
     "execution_count": 37,
     "metadata": {},
     "output_type": "execute_result"
    }
   ],
   "source": [
    "downbeats=[0.96, 2.52, 4.07, 5.64, 7.2, 8.75, 10.31, 11.87, 13.43, 14.99, 16.55, 18.11, 19.66, 21.22, 22.78, 24.34, 25.9, 27.45, 29.02, 30.57, 32.13, 33.69, 35.25, 36.81, 38.37, 39.91, 41.48, 43.04, 44.59, 46.15, 47.71, 49.26, 50.82, 52.49, 54.13, 55.7, 57.09 ]"
   ]
  },
  {
   "cell_type": "code",
   "execution_count": 28,
   "metadata": {},
   "outputs": [
    {
     "data": {
      "text/plain": [
       "array([3, 5, 9])"
      ]
     },
     "execution_count": 28,
     "metadata": {},
     "output_type": "execute_result"
    }
   ],
   "source": [
    "a"
   ]
  },
  {
   "cell_type": "code",
   "execution_count": 29,
   "metadata": {},
   "outputs": [
    {
     "data": {
      "text/plain": [
       "3"
      ]
     },
     "execution_count": 29,
     "metadata": {},
     "output_type": "execute_result"
    }
   ],
   "source": [
    "a[0]"
   ]
  },
  {
   "cell_type": "code",
   "execution_count": 31,
   "metadata": {},
   "outputs": [
    {
     "name": "stdout",
     "output_type": "stream",
     "text": [
      "3\n",
      "5\n",
      "9\n"
     ]
    }
   ],
   "source": [
    "for i in np.arange(len(a)):\n",
    "    print(a[i])"
   ]
  },
  {
   "cell_type": "code",
   "execution_count": null,
   "metadata": {},
   "outputs": [],
   "source": []
  },
  {
   "cell_type": "code",
   "execution_count": 6,
   "metadata": {},
   "outputs": [
    {
     "ename": "AttributeError",
     "evalue": "'str' object has no attribute 'sample_width'",
     "output_type": "error",
     "traceback": [
      "\u001b[0;31m---------------------------------------------------------------------------\u001b[0m",
      "\u001b[0;31mAttributeError\u001b[0m                            Traceback (most recent call last)",
      "\u001b[0;32m<ipython-input-6-6f4d8c37b2d1>\u001b[0m in \u001b[0;36m<module>\u001b[0;34m\u001b[0m\n\u001b[1;32m      1\u001b[0m \u001b[0;32mfrom\u001b[0m \u001b[0mpydub\u001b[0m\u001b[0;34m.\u001b[0m\u001b[0mplayback\u001b[0m \u001b[0;32mimport\u001b[0m \u001b[0mplay\u001b[0m\u001b[0;34m\u001b[0m\u001b[0;34m\u001b[0m\u001b[0m\n\u001b[0;32m----> 2\u001b[0;31m \u001b[0mplay\u001b[0m\u001b[0;34m(\u001b[0m\u001b[0;34m'greatshow.wav'\u001b[0m\u001b[0;34m)\u001b[0m\u001b[0;34m\u001b[0m\u001b[0;34m\u001b[0m\u001b[0m\n\u001b[0m",
      "\u001b[0;32m~/.local/lib/python3.7/site-packages/pydub/playback.py\u001b[0m in \u001b[0;36mplay\u001b[0;34m(audio_segment)\u001b[0m\n\u001b[1;32m     62\u001b[0m \u001b[0;34m\u001b[0m\u001b[0m\n\u001b[1;32m     63\u001b[0m     \u001b[0;32mtry\u001b[0m\u001b[0;34m:\u001b[0m\u001b[0;34m\u001b[0m\u001b[0;34m\u001b[0m\u001b[0m\n\u001b[0;32m---> 64\u001b[0;31m         \u001b[0m_play_with_pyaudio\u001b[0m\u001b[0;34m(\u001b[0m\u001b[0maudio_segment\u001b[0m\u001b[0;34m)\u001b[0m\u001b[0;34m\u001b[0m\u001b[0;34m\u001b[0m\u001b[0m\n\u001b[0m\u001b[1;32m     65\u001b[0m         \u001b[0;32mreturn\u001b[0m\u001b[0;34m\u001b[0m\u001b[0;34m\u001b[0m\u001b[0m\n\u001b[1;32m     66\u001b[0m     \u001b[0;32mexcept\u001b[0m \u001b[0mImportError\u001b[0m\u001b[0;34m:\u001b[0m\u001b[0;34m\u001b[0m\u001b[0;34m\u001b[0m\u001b[0m\n",
      "\u001b[0;32m~/.local/lib/python3.7/site-packages/pydub/playback.py\u001b[0m in \u001b[0;36m_play_with_pyaudio\u001b[0;34m(seg)\u001b[0m\n\u001b[1;32m     21\u001b[0m \u001b[0;34m\u001b[0m\u001b[0m\n\u001b[1;32m     22\u001b[0m     \u001b[0mp\u001b[0m \u001b[0;34m=\u001b[0m \u001b[0mpyaudio\u001b[0m\u001b[0;34m.\u001b[0m\u001b[0mPyAudio\u001b[0m\u001b[0;34m(\u001b[0m\u001b[0;34m)\u001b[0m\u001b[0;34m\u001b[0m\u001b[0;34m\u001b[0m\u001b[0m\n\u001b[0;32m---> 23\u001b[0;31m     stream = p.open(format=p.get_format_from_width(seg.sample_width),\n\u001b[0m\u001b[1;32m     24\u001b[0m                     \u001b[0mchannels\u001b[0m\u001b[0;34m=\u001b[0m\u001b[0mseg\u001b[0m\u001b[0;34m.\u001b[0m\u001b[0mchannels\u001b[0m\u001b[0;34m,\u001b[0m\u001b[0;34m\u001b[0m\u001b[0;34m\u001b[0m\u001b[0m\n\u001b[1;32m     25\u001b[0m                     \u001b[0mrate\u001b[0m\u001b[0;34m=\u001b[0m\u001b[0mseg\u001b[0m\u001b[0;34m.\u001b[0m\u001b[0mframe_rate\u001b[0m\u001b[0;34m,\u001b[0m\u001b[0;34m\u001b[0m\u001b[0;34m\u001b[0m\u001b[0m\n",
      "\u001b[0;31mAttributeError\u001b[0m: 'str' object has no attribute 'sample_width'"
     ]
    }
   ],
   "source": [
    "from pydub.playback import play\n",
    "from pydub import AudioSegmenta\n",
    "play('greatshow.wav')"
   ]
  }
 ],
 "metadata": {
  "kernelspec": {
   "display_name": "Python 3",
   "language": "python",
   "name": "python3"
  },
  "language_info": {
   "codemirror_mode": {
    "name": "ipython",
    "version": 3
   },
   "file_extension": ".py",
   "mimetype": "text/x-python",
   "name": "python",
   "nbconvert_exporter": "python",
   "pygments_lexer": "ipython3",
   "version": "3.7.3"
  }
 },
 "nbformat": 4,
 "nbformat_minor": 4
}
