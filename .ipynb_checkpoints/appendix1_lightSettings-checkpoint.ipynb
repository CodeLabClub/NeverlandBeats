{
 "cells": [
  {
   "cell_type": "markdown",
   "metadata": {},
   "source": [
    "# **灯光配置**"
   ]
  },
  {
   "cell_type": "markdown",
   "metadata": {},
   "source": [
    "## **1 使用树莓派直接驱动 WS2812 灯带**\n",
    "\n",
    "#### **依赖：**\n",
    "\n",
    "+ [rpi_ws281x](https://github.com/jgarff/rpi_ws281x)\n",
    "\n",
    "    [python-binding](https://github.com/rpi-ws281x/rpi-ws281x-python)\n",
    "\n",
    "\n",
    "#### **灯带与树莓派的连接：**\n",
    "\n",
    "+ [树莓派连接 NeoPixel 指南 (Adafruit)](https://cdn-learn.adafruit.com/downloads/pdf/neopixels-on-raspberry-pi.pdf)\n",
    "\n",
    "+ [Raspberry Pi &\n",
    "WS2812 LED-Strips](https://dordnung.de/raspberrypi-ledstrip/ws2812)\n",
    "\n",
    "\n",
    "#### **root 权限运行：**\n",
    "\n",
    "因为控制灯光需要 sudo 权限，所以安装 python 依赖时都要以 sudo 权限安装；\n",
    "\n",
    "jupyter-lab 的启动也要以 root 权限启动：`sudo -E env \"PATH=$PATH\" jupyter lab --allow-root`，参考[这里](https://stackoverflow.com/questions/41622988/root-access-for-jupyter-ipython-notebook)\n",
    "\n",
    "\n",
    "####  **更多的灯光效果可以参考[这里定义的函数](https://github.com/BSFEMA/RPi_WS2812/blob/master/function_library.py)**\n",
    "\n",
    "&emsp;"
   ]
  },
  {
   "cell_type": "code",
   "execution_count": null,
   "metadata": {},
   "outputs": [],
   "source": [
    "# 导入依赖库，输入参数值\n",
    "from rpi_ws281x import PixelStrip, Color\n",
    "\n",
    "LED_COUNT = 64              # 接入灯带灯珠的数量\n",
    "LED_PIN = 18                # 数据写入线连接树莓派 GPIO 18\n",
    "LED_FREQ_HZ = 800000        # 默认参数，参照依赖库中的示例代码直接使用\n",
    "LED_DMA = 10                # 默认参数，参照依赖库中的示例代码直接使用\n",
    "LED_BRIGHTNESS = 200        # 灯珠的亮度，范围0-255\n",
    "LED_INVERT = False          # 默认参数，参照依赖库中的示例代码直接使用\n",
    "LED_CHANNEL = 0             # 默认参数，参照依赖库中的示例代码直接使用\n",
    "\n",
    "\n",
    "\n",
    "# 按以上参数初始化\n",
    "strip = PixelStrip(LED_COUNT, LED_PIN, LED_FREQ_HZ, LED_DMA, LED_INVERT, LED_BRIGHTNESS, LED_CHANNEL)\n",
    "strip.begin()\n",
    "\n",
    "\n",
    "\n",
    "# 以函数的方式简单定义一种灯光效果，就是让所有灯珠呈现某一种颜色\n",
    "# 颜色直接使用依赖库现成的函数 Color(r,g,b) 定义\n",
    "def ColorWipe(strip, color):\n",
    "    for i in range(strip.numPixels()):\n",
    "        strip.setPixelColor(i, color)\n",
    "    strip.show()\n",
    "\n",
    "    \n",
    "# 让灯带呈现红色\n",
    "ColorWipe(strip, Color(255,0,0))"
   ]
  },
  {
   "cell_type": "code",
   "execution_count": null,
   "metadata": {},
   "outputs": [],
   "source": []
  }
 ],
 "metadata": {
  "kernelspec": {
   "display_name": "Python 3",
   "language": "python",
   "name": "python3"
  },
  "language_info": {
   "codemirror_mode": {
    "name": "ipython",
    "version": 3
   },
   "file_extension": ".py",
   "mimetype": "text/x-python",
   "name": "python",
   "nbconvert_exporter": "python",
   "pygments_lexer": "ipython3",
   "version": "3.8.2"
  }
 },
 "nbformat": 4,
 "nbformat_minor": 4
}
