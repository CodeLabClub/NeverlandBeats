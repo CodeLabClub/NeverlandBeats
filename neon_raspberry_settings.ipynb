{
 "cells": [
  {
   "cell_type": "markdown",
   "metadata": {},
   "source": [
    "## **树莓派配置 | Neverland Neonlights**"
   ]
  },
  {
   "cell_type": "markdown",
   "metadata": {},
   "source": [
    "**1.安装系统**\n",
    "\n",
    "**2.更换软件安装源**"
   ]
  },
  {
   "cell_type": "markdown",
   "metadata": {},
   "source": [
    "2.1 在终端内输入以下命令：`sudo nano /etc/apt/sources.list`"
   ]
  },
  {
   "cell_type": "markdown",
   "metadata": {},
   "source": [
    "2.2 打开网址 https://www.raspbian.org/RaspbianMirrors， 有多个国内源（第二栏标注 China 的）可选\n",
    "   "
   ]
  },
  {
   "cell_type": "markdown",
   "metadata": {},
   "source": [
    "2.3 注释掉终端内 sources.list 原有第一行命令（在最前面加 `#`），然后输入下方两行命令：   \n",
    "\n",
    "`deb http://mirrors.tuna.tsinghua.edu.cn/raspbian/raspbian/ buster main non-free contrib`  \n",
    "\n",
    "`deb-src http://mirrors.tuna.tsinghua.edu.cn/raspbian/raspbian/ buster main non-free contrib`  \n",
    "\n",
    "（使用了清华大学的镜像源）\n",
    "\n",
    "输入结束后，按 `Ctrl + X` 退出，然后输入 `y` 选择保存刚才的修改\n",
    "\n",
    "2.4 类似地，再次输入`sudo nano /etc/apt/sources.list.d/raspi.list`，然后修改这个文件内的命令，也是注释掉原有的（最前面加 `#`），输入下方新的命令：\n",
    "\n",
    "`deb http://mirrors.tuna.tsinghua.edu.cn/raspberrypi/ buster main ui` \n",
    "\n",
    "输入结束后，按 `Ctrl + X` 退出，然后输入 `y` 选择保存刚才的修改\n",
    "\n",
    "2.5 继续在终端内输入 `sudo apt update`，看刚才换源的操作是否成功，同时看看有没有软件需要更新升级，如果有的话，继续输入`sudo apt upgrade`"
   ]
  },
  {
   "cell_type": "markdown",
   "metadata": {},
   "source": [
    "**3.更换 pip 安装源**\n",
    "\n",
    "在终端内输入以下命令即可：\n",
    "\n",
    "`pip config set global.index-url https://pypi.tuna.tsinghua.edu.cn/simple`\n",
    "\n",
    "顺便升级：\n",
    "\n",
    "`python3 -m pip install --upgrade pip`\n"
   ]
  },
  {
   "cell_type": "markdown",
   "metadata": {},
   "source": [
    "**4.安装 jupyter lab**\n",
    "\n",
    "继续在终端内输入：`pip3 install jupyterlab`（注意要输入 pip3 而不是  pip，这样才会使用 python 3，否则用的是 python 2）\n",
    "\n",
    "遇到启动失败的情况，需要更新 setuptools: `pip install -U pip setuptools `\n",
    "\n",
    "另外控制灯带需要在 root 权限下启动 jupyter lab：`sudo -E env \"PATH=$PATH\" jupyter lab --allow-root`"
   ]
  },
  {
   "cell_type": "markdown",
   "metadata": {},
   "source": [
    "**5.下载安装 Adapter**\n",
    "\n",
    "下载网址：https://adapter.codelab.club/get_start/gs_install/\n",
    "\n",
    "因树莓派版 Adapter 使用的是用户本地自己的 Python，同时还需要安装 Adapter Python Client，在终端内输入以下命令：\n",
    "\n",
    "`python3 -m pip install codelab_adapter_client`\n",
    "\n",
    "**6.连接 NeoPixel（WS281x 灯带）**\n",
    "\n",
    "灯带的三根线，电源线直接连 5V 供电（这样的操作其实有问题），数据线连 GPIO 18（必需是 PWM pin），另外连接地线，参考[这里](https://stackoverflow.com/questions/41622988/root-access-for-jupyter-ipython-notebook)\n"
   ]
  },
  {
   "cell_type": "markdown",
   "metadata": {},
   "source": [
    "**遇到的问题：**\n",
    "\n",
    "+ jupyterlab 启动失败：升级 setuptools\n",
    "\n",
    "+ numpy import 报错：补安装一个库，`sudo apt install libatlas-base-dev`\n",
    "\n",
    "    参考[官方指南](https://numpy.org/devdocs/user/troubleshooting-importerror.html)\n",
    "    \n",
    "+ root 权限下启动 jupyter lab: `sudo -E env \"PATH=$PATH\" jupyter lab --allow-root`\n",
    "\n",
    "    因为灯带的数据线连接的是 GPIO 18（必需是 PWM pin！），运行 python 代码时需是 root 权限，所以要在 root 权限下运行 jupyter lab，参考[这里](https://stackoverflow.com/questions/41622988/root-access-for-jupyter-ipython-notebook)\n",
    "    \n",
    "+ 默认 Chromium 浏览器 Scratch 渲染有问题\n",
    "\n",
    "+ 在 Jupyter Lab 中编程，代码完成后复制到脚本里去终端内运行，因为 Jupyter 有延迟（例如 print 的速度慢于灯光闪烁，以脚本的形式在终端内运行二者同步）\n",
    "\n",
    "+ 因为控制灯光需要 sudo 权限，所以需要的 python 库安装时直接以 sudo 权限安装，如 `sudo pip3 install madmom` （有些库安装完成后可能需要更新，如 numpy、scipy）\n",
    "\n",
    "+ 图形渲染还是差一些，Scratch 项目全屏后明显延迟"
   ]
  },
  {
   "cell_type": "markdown",
   "metadata": {},
   "source": [
    "**补充**\n",
    "\n",
    "可以安装 magic-wormhole，方便使用自己的电脑给树莓派发送文件\n",
    "\n"
   ]
  },
  {
   "cell_type": "markdown",
   "metadata": {},
   "source": [
    "**参考**\n",
    "\n",
    "+ [树莓派连接 NeoPixel 指南 (Adafruit)](https://cdn-learn.adafruit.com/downloads/pdf/neopixels-on-raspberry-pi.pdf)\n",
    "\n",
    "+ [Raspberry Pi &\n",
    "WS2812 LED-Strips](https://dordnung.de/raspberrypi-ledstrip/ws2812)"
   ]
  }
 ],
 "metadata": {
  "kernelspec": {
   "display_name": "Python 3",
   "language": "python",
   "name": "python3"
  },
  "language_info": {
   "codemirror_mode": {
    "name": "ipython",
    "version": 3
   },
   "file_extension": ".py",
   "mimetype": "text/x-python",
   "name": "python",
   "nbconvert_exporter": "python",
   "pygments_lexer": "ipython3",
   "version": "3.8.7"
  }
 },
 "nbformat": 4,
 "nbformat_minor": 4
}